{
 "cells": [
  {
   "cell_type": "code",
   "execution_count": 1,
   "id": "0e20582b-95bf-4d06-99ab-efd48023e4f8",
   "metadata": {},
   "outputs": [],
   "source": [
    "%load_ext autoreload\n",
    "%autoreload 2"
   ]
  },
  {
   "cell_type": "code",
   "execution_count": 2,
   "id": "0bc5d5ca-e3cc-46d1-8403-3c1e441e7376",
   "metadata": {},
   "outputs": [
    {
     "name": "stderr",
     "output_type": "stream",
     "text": [
      "/home/mun/miniconda3/envs/rcon/lib/python3.12/site-packages/tqdm/auto.py:21: TqdmWarning: IProgress not found. Please update jupyter and ipywidgets. See https://ipywidgets.readthedocs.io/en/stable/user_install.html\n",
      "  from .autonotebook import tqdm as notebook_tqdm\n"
     ]
    }
   ],
   "source": [
    "import utils as u\n",
    "modelname = \"KB/bert-base-swedish-cased\""
   ]
  },
  {
   "cell_type": "code",
   "execution_count": 3,
   "id": "58103241-d722-4833-b48a-98c8a20ef857",
   "metadata": {},
   "outputs": [
    {
     "name": "stdout",
     "output_type": "stream",
     "text": [
      "Loaded 21316 sentences.\n",
      "Labeled sentences:   3000\n",
      "Unlabeled sentences: 18316\n",
      "Label 0.0 with 479 instances is the smaller group.\n"
     ]
    }
   ],
   "source": [
    "import utils as u\n",
    "labeled, unlabeled = u.read_data(\"../data/TRVInfra_all_only_requirements_202312.xlsx\")"
   ]
  },
  {
   "cell_type": "code",
   "execution_count": 4,
   "id": "a1d27bb5-94af-4785-a6dd-ea13a53a81be",
   "metadata": {},
   "outputs": [],
   "source": [
    "sentences = u.get_sentences(labeled)\n",
    "labels = u.get_labels(labeled) "
   ]
  },
  {
   "cell_type": "code",
   "execution_count": 5,
   "id": "baf74a41-9c63-43ee-86d4-ca0dbae2b7a3",
   "metadata": {},
   "outputs": [
    {
     "name": "stdout",
     "output_type": "stream",
     "text": [
      "Max sentence length: 156\n"
     ]
    },
    {
     "name": "stderr",
     "output_type": "stream",
     "text": [
      "/home/mun/miniconda3/envs/rcon/lib/python3.12/site-packages/transformers/tokenization_utils_base.py:2645: FutureWarning: The `pad_to_max_length` argument is deprecated and will be removed in a future version, use `padding=True` or `padding='longest'` to pad to the longest sequence in the batch, or use `padding='max_length'` to pad to a max length. In this case, you can give a specific length with `max_length` (e.g. `max_length=45`) or leave max_length to None to pad to the maximal input size of the model (e.g. 512 for Bert).\n",
      "  warnings.warn(\n"
     ]
    }
   ],
   "source": [
    "input_ids, attention_masks = u.tokenize(modelname, sentences)"
   ]
  },
  {
   "cell_type": "code",
   "execution_count": 6,
   "id": "0c1840bb-1267-4a22-aab4-c0a19addbf79",
   "metadata": {},
   "outputs": [
    {
     "name": "stdout",
     "output_type": "stream",
     "text": [
      "  958 total samples\n",
      "  775 training samples\n",
      "   87 validation samples\n",
      "   96 test samples\n"
     ]
    }
   ],
   "source": [
    "train_dataset, val_dataset, test_dataset = u.create_datasets(input_ids, attention_masks, labels, 0.1, 0.9)"
   ]
  },
  {
   "cell_type": "code",
   "execution_count": 8,
   "id": "6359a7c1-c49c-4ba8-b9d2-699ece122587",
   "metadata": {},
   "outputs": [
    {
     "name": "stderr",
     "output_type": "stream",
     "text": [
      "Some weights of BertForSequenceClassification were not initialized from the model checkpoint at KB/bert-base-swedish-cased and are newly initialized: ['classifier.bias', 'classifier.weight']\n",
      "You should probably TRAIN this model on a down-stream task to be able to use it for predictions and inference.\n",
      "/home/mun/miniconda3/envs/rcon/lib/python3.12/site-packages/transformers/optimization.py:429: FutureWarning: This implementation of AdamW is deprecated and will be removed in a future version. Use the PyTorch implementation torch.optim.AdamW instead, or set `no_deprecation_warning=True` to disable this warning\n",
      "  warnings.warn(\n"
     ]
    },
    {
     "name": "stdout",
     "output_type": "stream",
     "text": [
      "There are 2 GPU(s) available.\n",
      "We will use the GPU: NVIDIA GeForce RTX 2080 Ti\n",
      "\n",
      "======== Epoch 1 / 3 ========\n",
      "Training...\n",
      "\n",
      "  Average training loss: 0.29\n",
      "  Training epoch took: 0:00:08\n",
      "\n",
      "Running Validation...\n",
      "  Accuracy: 0.97\n",
      "  Validation Loss: 0.09\n",
      "  Validation took: 0:00:00\n",
      "\n",
      "======== Epoch 2 / 3 ========\n",
      "Training...\n",
      "\n",
      "  Average training loss: 0.10\n",
      "  Training epoch took: 0:00:07\n",
      "\n",
      "Running Validation...\n",
      "  Accuracy: 0.99\n",
      "  Validation Loss: 0.06\n",
      "  Validation took: 0:00:00\n",
      "\n",
      "======== Epoch 3 / 3 ========\n",
      "Training...\n",
      "\n",
      "  Average training loss: 0.05\n",
      "  Training epoch took: 0:00:07\n",
      "\n",
      "Running Validation...\n",
      "  Accuracy: 0.99\n",
      "  Validation Loss: 0.06\n",
      "  Validation took: 0:00:00\n",
      "\n",
      "Training complete!\n",
      "Total training took 0:00:23 (h:mm:ss)\n",
      "\n",
      "Training stats\n",
      "       Training Loss  Valid. Loss  Valid. Accur. Training Time Validation Time\n",
      "epoch                                                                         \n",
      "1               0.29         0.09           0.97       0:00:08         0:00:00\n",
      "2               0.10         0.06           0.99       0:00:07         0:00:00\n",
      "3               0.05         0.06           0.99       0:00:07         0:00:00\n"
     ]
    }
   ],
   "source": [
    "model = u.train(modelname, 3, train_dataset, val_dataset)"
   ]
  },
  {
   "cell_type": "code",
   "execution_count": 9,
   "id": "630c85ef-1a46-4e64-85b9-e36c6bcfcad1",
   "metadata": {},
   "outputs": [
    {
     "name": "stdout",
     "output_type": "stream",
     "text": [
      "Predicting labels for 96 test sentences...\n",
      "There are 2 GPU(s) available.\n",
      "We will use the GPU: NVIDIA GeForce RTX 2080 Ti\n",
      "    DONE.\n",
      "Positive samples: 54 of 96 (56.25%)\n",
      "\n",
      "Calculating Matthews Corr. Coef. for each batch...\n",
      "Total MCC: 0.958\n",
      "Accuracy: 0.979167\n"
     ]
    }
   ],
   "source": [
    "u.evaluate(model, test_dataset)"
   ]
  },
  {
   "cell_type": "code",
   "execution_count": 20,
   "id": "6d78bfed-e1fc-499f-80c4-831a7301cd97",
   "metadata": {},
   "outputs": [],
   "source": [
    "u.save_model(model, \"../models\")"
   ]
  },
  {
   "cell_type": "markdown",
   "id": "00df0265-1410-4003-b686-546ce40e56db",
   "metadata": {},
   "source": [
    "# Prediction on unlabeled data"
   ]
  },
  {
   "cell_type": "code",
   "execution_count": 47,
   "id": "0e72b0ee-93c2-4cd7-b1e8-dd8a4d28f3f0",
   "metadata": {},
   "outputs": [
    {
     "name": "stdout",
     "output_type": "stream",
     "text": [
      "There are 2 GPU(s) available.\n",
      "We will use the GPU: NVIDIA GeForce RTX 2080 Ti\n"
     ]
    }
   ],
   "source": [
    "modelpath = \"../models/20240312-202620\"\n",
    "model = u.load_model(modelpath)"
   ]
  },
  {
   "cell_type": "code",
   "execution_count": 28,
   "id": "b0550ccd-8559-40ad-8af2-d2bb4eb3edb7",
   "metadata": {},
   "outputs": [
    {
     "name": "stdout",
     "output_type": "stream",
     "text": [
      "Max sentence length: 321\n"
     ]
    },
    {
     "name": "stderr",
     "output_type": "stream",
     "text": [
      "/home/mun/miniconda3/envs/rcon/lib/python3.12/site-packages/transformers/tokenization_utils_base.py:2645: FutureWarning: The `pad_to_max_length` argument is deprecated and will be removed in a future version, use `padding=True` or `padding='longest'` to pad to the longest sequence in the batch, or use `padding='max_length'` to pad to a max length. In this case, you can give a specific length with `max_length` (e.g. `max_length=45`) or leave max_length to None to pad to the maximal input size of the model (e.g. 512 for Bert).\n",
      "  warnings.warn(\n"
     ]
    }
   ],
   "source": [
    "sentences = u.get_sentences(unlabeled)\n",
    "ids = u.get_ids(unlabeled)\n",
    "input_ids, attention_masks = u.tokenize(modelname, sentences)"
   ]
  },
  {
   "cell_type": "code",
   "execution_count": 39,
   "id": "c9b7bb4c-b304-4216-b0e4-1f81fba17824",
   "metadata": {},
   "outputs": [
    {
     "name": "stdout",
     "output_type": "stream",
     "text": [
      "There are 2 GPU(s) available.\n",
      "We will use the GPU: NVIDIA GeForce RTX 2080 Ti\n",
      "  Batch    50  of    573.    Elapsed: 0:00:11.\n",
      "  Batch   100  of    573.    Elapsed: 0:00:22.\n",
      "  Batch   150  of    573.    Elapsed: 0:00:34.\n",
      "  Batch   200  of    573.    Elapsed: 0:00:46.\n",
      "  Batch   250  of    573.    Elapsed: 0:00:58.\n",
      "  Batch   300  of    573.    Elapsed: 0:01:10.\n",
      "  Batch   350  of    573.    Elapsed: 0:01:23.\n",
      "  Batch   400  of    573.    Elapsed: 0:01:35.\n",
      "  Batch   450  of    573.    Elapsed: 0:01:48.\n",
      "  Batch   500  of    573.    Elapsed: 0:02:01.\n",
      "  Batch   550  of    573.    Elapsed: 0:02:14.\n",
      "    DONE.\n"
     ]
    }
   ],
   "source": [
    "predictions = u.predict(model, u.create_dataset(input_ids, attention_masks))"
   ]
  },
  {
   "cell_type": "code",
   "execution_count": 49,
   "id": "178bce30-1a2f-470c-a835-fb2261b0be9e",
   "metadata": {},
   "outputs": [
    {
     "name": "stdout",
     "output_type": "stream",
     "text": [
      "Predictions have been stored in ../models/20240312-202620/predictions_20240312-214127.csv\n"
     ]
    }
   ],
   "source": [
    "u.save_predictions(predictions, ids, sentences, modelpath)"
   ]
  }
 ],
 "metadata": {
  "kernelspec": {
   "display_name": "Python [conda env:rcon]",
   "language": "python",
   "name": "conda-env-rcon-py"
  },
  "language_info": {
   "codemirror_mode": {
    "name": "ipython",
    "version": 3
   },
   "file_extension": ".py",
   "mimetype": "text/x-python",
   "name": "python",
   "nbconvert_exporter": "python",
   "pygments_lexer": "ipython3",
   "version": "3.12.2"
  }
 },
 "nbformat": 4,
 "nbformat_minor": 5
}
